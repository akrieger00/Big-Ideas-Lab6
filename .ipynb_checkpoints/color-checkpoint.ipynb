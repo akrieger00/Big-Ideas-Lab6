{
 "cells": [
  {
   "cell_type": "code",
   "execution_count": null,
   "metadata": {},
   "outputs": [],
   "source": [
    "color = input(\"Enter a color(red, orange, yellow, green, blue, purple): \")\n",
    "\n",
    "if color == \"red\":\n",
    "    print(\"The complimentary color for red is green\")\n",
    "elif color == \"green\":\n",
    "    print(\"The complimentary color for green is red\")\n",
    "elif color == \"orange\":\n",
    "    print(\"The complimentary color for orange is blue\")\n",
    "elif color == \"blue\":\n",
    "    print(\"The complimentary color for blue is orange\")\n",
    "elif color == \"yellow\":\n",
    "    print(\"The complimentary color for yellow is purple\")\n",
    "elif color == \"purple\":\n",
    "    print(\"The complimentary color for purple is yellow\")\n",
    "else:\n",
    "    print(\"Invalid Color. Try Again\")"
   ]
  }
 ],
 "metadata": {
  "kernelspec": {
   "display_name": "Python 3",
   "language": "python",
   "name": "python3"
  },
  "language_info": {
   "codemirror_mode": {
    "name": "ipython",
    "version": 3
   },
   "file_extension": ".py",
   "mimetype": "text/x-python",
   "name": "python",
   "nbconvert_exporter": "python",
   "pygments_lexer": "ipython3",
   "version": "3.8.3"
  }
 },
 "nbformat": 4,
 "nbformat_minor": 4
}
